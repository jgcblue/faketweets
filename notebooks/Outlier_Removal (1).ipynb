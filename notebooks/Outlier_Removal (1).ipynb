{
  "cells": [
    {
      "cell_type": "code",
      "source": [
        "from scipy.stats import zscore\n",
        "\n",
        "# Calculate the z-scores of the 'Avg Tweets per Week' column\n",
        "df_grouped['Z-Score'] = zscore(df_grouped['Avg Tweets per Week'])\n",
        "\n",
        "# Remove records with a z-score greater than 3 or less than -3\n",
        "df_grouped_no_outliers = df_grouped[(df_grouped['Z-Score'] > -3) & (df_grouped['Z-Score'] < 3)]\n",
        "\n",
        "# Drop the 'Z-Score' column as it's no longer needed\n",
        "df_grouped_no_outliers = df_grouped_no_outliers.drop(columns='Z-Score')\n",
        "\n",
        "# Display the DataFrame\n",
        "df_grouped_no_outliers"
      ],
      "outputs": [
        {
          "output_type": "error",
          "ename": "NameError",
          "evalue": "name 'df_grouped' is not defined",
          "traceback": [
            "\u001b[0;31m---------------------------------------------------------------------------\u001b[0m",
            "\u001b[0;31mNameError\u001b[0m                                 Traceback (most recent call last)",
            "Cell \u001b[0;32mIn[1], line 4\u001b[0m\n\u001b[1;32m      1\u001b[0m \u001b[38;5;28;01mfrom\u001b[39;00m \u001b[38;5;21;01mscipy\u001b[39;00m\u001b[38;5;21;01m.\u001b[39;00m\u001b[38;5;21;01mstats\u001b[39;00m \u001b[38;5;28;01mimport\u001b[39;00m zscore\n\u001b[1;32m      3\u001b[0m \u001b[38;5;66;03m# Calculate the z-scores of the 'Avg Tweets per Week' column\u001b[39;00m\n\u001b[0;32m----> 4\u001b[0m df_grouped[\u001b[38;5;124m'\u001b[39m\u001b[38;5;124mZ-Score\u001b[39m\u001b[38;5;124m'\u001b[39m] \u001b[38;5;241m=\u001b[39m zscore(\u001b[43mdf_grouped\u001b[49m[\u001b[38;5;124m'\u001b[39m\u001b[38;5;124mAvg Tweets per Week\u001b[39m\u001b[38;5;124m'\u001b[39m])\n\u001b[1;32m      6\u001b[0m \u001b[38;5;66;03m# Remove records with a z-score greater than 3 or less than -3\u001b[39;00m\n\u001b[1;32m      7\u001b[0m df_grouped_no_outliers \u001b[38;5;241m=\u001b[39m df_grouped[(df_grouped[\u001b[38;5;124m'\u001b[39m\u001b[38;5;124mZ-Score\u001b[39m\u001b[38;5;124m'\u001b[39m] \u001b[38;5;241m>\u001b[39m \u001b[38;5;241m-\u001b[39m\u001b[38;5;241m3\u001b[39m) \u001b[38;5;241m&\u001b[39m (df_grouped[\u001b[38;5;124m'\u001b[39m\u001b[38;5;124mZ-Score\u001b[39m\u001b[38;5;124m'\u001b[39m] \u001b[38;5;241m<\u001b[39m \u001b[38;5;241m3\u001b[39m)]\n",
            "\u001b[0;31mNameError\u001b[0m: name 'df_grouped' is not defined"
          ]
        }
      ],
      "execution_count": null,
      "metadata": {
        "noteable": {
          "cell_type": "code"
        },
        "ExecuteTime": {
          "end_time": "2023-07-24T08:39:22.112407+00:00",
          "start_time": "2023-07-24T08:39:21.116377+00:00"
        }
      },
      "id": "af1255c6-a30b-49d9-bfad-ede9b07a2435"
    },
    {
      "cell_type": "code",
      "source": [
        "import pandas as pd\n",
        "import numpy as np\n",
        "from datetime import datetime\n",
        "from scipy.stats import skewnorm, zscore\n",
        "\n",
        "# Recreate the DataFrame\n",
        "data = genTweetsAll(100)\n",
        "flat_data = [item for sublist in data for item in sublist]\n",
        "df = pd.DataFrame(flat_data, columns=['Age', 'Date', 'Tweet Content'])\n",
        "\n",
        "# Group the records according to age ranges (separated by 5 years)\n",
        "df['Age Group'] = pd.cut(df['Age'], bins=np.arange(10, 85, 5), right=False)\n",
        "\n",
        "# For each group, calculate the average number of tweets per week\n",
        "df['Week'] = df['Date'].dt.isocalendar().week\n",
        "df_grouped = df.groupby(['Age Group', 'Week']).size().reset_index(name='Tweets')\n",
        "df_grouped['Age Group Mid'] = df_grouped['Age Group'].apply(lambda x: x.mid)\n",
        "df_grouped = df_grouped.groupby('Age Group Mid').agg({'Tweets': 'mean'}).reset_index().rename(columns={'Tweets': 'Avg Tweets per Week'})\n",
        "\n",
        "# Calculate the z-scores of the 'Avg Tweets per Week' column\n",
        "df_grouped['Z-Score'] = zscore(df_grouped['Avg Tweets per Week'])\n",
        "\n",
        "# Remove records with a z-score greater than 3 or less than -3\n",
        "df_grouped_no_outliers = df_grouped[(df_grouped['Z-Score'] > -3) & (df_grouped['Z-Score'] < 3)]\n",
        "\n",
        "# Drop the 'Z-Score' column as it's no longer needed\n",
        "df_grouped_no_outliers = df_grouped_no_outliers.drop(columns='Z-Score')\n",
        "\n",
        "# Display the DataFrame\n",
        "df_grouped_no_outliers"
      ],
      "outputs": [
        {
          "output_type": "error",
          "ename": "NameError",
          "evalue": "name 'genTweetsAll' is not defined",
          "traceback": [
            "\u001b[0;31m---------------------------------------------------------------------------\u001b[0m",
            "\u001b[0;31mNameError\u001b[0m                                 Traceback (most recent call last)",
            "Cell \u001b[0;32mIn[2], line 7\u001b[0m\n\u001b[1;32m      4\u001b[0m \u001b[38;5;28;01mfrom\u001b[39;00m \u001b[38;5;21;01mscipy\u001b[39;00m\u001b[38;5;21;01m.\u001b[39;00m\u001b[38;5;21;01mstats\u001b[39;00m \u001b[38;5;28;01mimport\u001b[39;00m skewnorm, zscore\n\u001b[1;32m      6\u001b[0m \u001b[38;5;66;03m# Recreate the DataFrame\u001b[39;00m\n\u001b[0;32m----> 7\u001b[0m data \u001b[38;5;241m=\u001b[39m \u001b[43mgenTweetsAll\u001b[49m(\u001b[38;5;241m100\u001b[39m)\n\u001b[1;32m      8\u001b[0m flat_data \u001b[38;5;241m=\u001b[39m [item \u001b[38;5;28;01mfor\u001b[39;00m sublist \u001b[38;5;129;01min\u001b[39;00m data \u001b[38;5;28;01mfor\u001b[39;00m item \u001b[38;5;129;01min\u001b[39;00m sublist]\n\u001b[1;32m      9\u001b[0m df \u001b[38;5;241m=\u001b[39m pd\u001b[38;5;241m.\u001b[39mDataFrame(flat_data, columns\u001b[38;5;241m=\u001b[39m[\u001b[38;5;124m'\u001b[39m\u001b[38;5;124mAge\u001b[39m\u001b[38;5;124m'\u001b[39m, \u001b[38;5;124m'\u001b[39m\u001b[38;5;124mDate\u001b[39m\u001b[38;5;124m'\u001b[39m, \u001b[38;5;124m'\u001b[39m\u001b[38;5;124mTweet Content\u001b[39m\u001b[38;5;124m'\u001b[39m])\n",
            "\u001b[0;31mNameError\u001b[0m: name 'genTweetsAll' is not defined"
          ]
        }
      ],
      "execution_count": null,
      "metadata": {
        "noteable": {
          "cell_type": "code"
        },
        "ExecuteTime": {
          "end_time": "2023-07-24T08:40:51.997860+00:00",
          "start_time": "2023-07-24T08:40:51.800953+00:00"
        }
      },
      "id": "97487511-b419-421c-876c-2c3e8187bb89"
    },
    {
      "cell_type": "code",
      "source": [
        "import random\n",
        "import string\n",
        "import numpy as np\n",
        "import pandas as pd\n",
        "from scipy.stats import skewnorm, zscore\n",
        "from datetime import datetime, timedelta\n",
        "from dateutil.relativedelta import relativedelta\n",
        "\n",
        "# Function to generate random string\n",
        "def generate_random_string(length=10):\n",
        "    letters = string.ascii_lowercase\n",
        "    return ''.join(random.choice(letters) for _ in range(length))\n",
        "\n",
        "# Function to generate tweets\n",
        "def generate_tweets(tweet_dates):\n",
        "    tweets = []\n",
        "    for date in tweet_dates:\n",
        "        tweet_text = generate_random_string()\n",
        "        tweets.append((date, tweet_text))\n",
        "    return tweets\n",
        "\n",
        "# Function to generate tweet dates for one user\n",
        "def tweetDatesGenOne(age):\n",
        "    tweetdates=[]\n",
        "    rate = age_group(age)\n",
        "    weeks = createWeeks()\n",
        "    for week in weeks:\n",
        "        num_tweets = np.random.poisson(rate)\n",
        "        tweetdates += list(np.random.choice(week, size=num_tweets, replace=True))\n",
        "    return tweetdates\n",
        "\n",
        "# Function to assign tweet rate based on age group\n",
        "def age_group(x):\n",
        "    if 16 <= x <= 25:\n",
        "        return 8\n",
        "    elif 26 <= x <= 35:\n",
        "        return 6\n",
        "    elif 36 <= x <= 45:\n",
        "        return 4\n",
        "    elif 46 <= x <= 55:\n",
        "        return 3\n",
        "    elif 56 <= x <= 65:\n",
        "        return 2\n",
        "    elif 66 <= x <= 75:\n",
        "        return 1\n",
        "    elif x >= 76:\n",
        "        return 0\n",
        "    else:\n",
        "        return 0\n",
        "\n",
        "# Function to generate ages\n",
        "def genAges(numberofAges):\n",
        "    skewness = -5\n",
        "    rand_var = skewnorm.rvs(a=skewness, loc=40, scale=10, size=numberofAges)\n",
        "    return rand_var\n",
        "\n",
        "# Function to generate tweets for all users\n",
        "def genTweetsAll(howmany):\n",
        "    data = []\n",
        "    x = genAges(howmany)\n",
        "    for y in x:\n",
        "        dates = tweetDatesGenOne(y)\n",
        "        tweets = generate_tweets(dates)\n",
        "        tweetstriples = [(y,) + tweet for tweet in tweets]\n",
        "        data.append(tweetstriples)\n",
        "    return data\n",
        "\n",
        "# Function to create weeks\n",
        "def createWeeks():\n",
        "    today = datetime.now()\n",
        "    three_years_ago = today - relativedelta(years=3)\n",
        "    days = []\n",
        "    current_date = three_years_ago\n",
        "    while current_date <= today:\n",
        "        days.append(current_date)\n",
        "        current_date += timedelta(days=1)\n",
        "    weeks = []\n",
        "    current_day = 0\n",
        "    while current_day < len(days):\n",
        "        week = days[current_day:current_day+7]\n",
        "        weeks.append(week)\n",
        "        current_day += 7\n",
        "    return weeks"
      ],
      "outputs": [],
      "execution_count": null,
      "metadata": {
        "noteable": {
          "cell_type": "code"
        },
        "ExecuteTime": {
          "end_time": "2023-07-24T08:43:01.498576+00:00",
          "start_time": "2023-07-24T08:43:01.328144+00:00"
        }
      },
      "id": "53609120-10d0-4be2-942d-d6f3ac350106"
    },
    {
      "cell_type": "code",
      "source": [
        "# Recreate the DataFrame\n",
        "data = genTweetsAll(100)\n",
        "flat_data = [item for sublist in data for item in sublist]\n",
        "df = pd.DataFrame(flat_data, columns=['Age', 'Date', 'Tweet Content'])\n",
        "\n",
        "# Group the records according to age ranges (separated by 5 years)\n",
        "df['Age Group'] = pd.cut(df['Age'], bins=np.arange(10, 85, 5), right=False)\n",
        "\n",
        "# For each group, calculate the average number of tweets per week\n",
        "df['Week'] = df['Date'].dt.isocalendar().week\n",
        "df_grouped = df.groupby(['Age Group', 'Week']).size().reset_index(name='Tweets')\n",
        "df_grouped['Age Group Mid'] = df_grouped['Age Group'].apply(lambda x: x.mid)\n",
        "df_grouped = df_grouped.groupby('Age Group Mid').agg({'Tweets': 'mean'}).reset_index().rename(columns={'Tweets': 'Avg Tweets per Week'})\n",
        "\n",
        "# Calculate the z-scores of the 'Avg Tweets per Week' column\n",
        "df_grouped['Z-Score'] = zscore(df_grouped['Avg Tweets per Week'])\n",
        "\n",
        "# Remove records with a z-score greater than 3 or less than -3\n",
        "df_grouped_no_outliers = df_grouped[(df_grouped['Z-Score'] > -3) & (df_grouped['Z-Score'] < 3)]\n",
        "\n",
        "# Drop the 'Z-Score' column as it's no longer needed\n",
        "df_grouped_no_outliers = df_grouped_no_outliers.drop(columns='Z-Score')\n",
        "\n",
        "# Display the DataFrame\n",
        "df_grouped_no_outliers"
      ],
      "outputs": [
        {
          "output_type": "display_data",
          "data": {
            "application/vnd.dataresource+json": {
              "schema": {
                "fields": [
                  {
                    "name": "index",
                    "type": "integer"
                  },
                  {
                    "name": "Age Group Mid",
                    "type": "any",
                    "constraints": {
                      "enum": [
                        12.5,
                        17.5,
                        22.5,
                        27.5,
                        32.5,
                        37.5,
                        42.5,
                        47.5,
                        52.5,
                        57.5,
                        62.5,
                        67.5,
                        72.5,
                        77.5
                      ]
                    },
                    "ordered": true
                  },
                  {
                    "name": "Avg Tweets per Week",
                    "type": "number"
                  }
                ],
                "primaryKey": [
                  "index"
                ],
                "pandas_version": "1.4.0"
              },
              "data": [
                {
                  "index": 0,
                  "Age Group Mid": 12.5,
                  "Avg Tweets per Week": 0
                },
                {
                  "index": 1,
                  "Age Group Mid": 17.5,
                  "Avg Tweets per Week": 22.566037735849058
                },
                {
                  "index": 2,
                  "Age Group Mid": 22.5,
                  "Avg Tweets per Week": 330.1320754716981
                },
                {
                  "index": 3,
                  "Age Group Mid": 27.5,
                  "Avg Tweets per Week": 316.3018867924528
                },
                {
                  "index": 4,
                  "Age Group Mid": 32.5,
                  "Avg Tweets per Week": 586.5471698113207
                },
                {
                  "index": 5,
                  "Age Group Mid": 37.5,
                  "Avg Tweets per Week": 259.92452830188677
                },
                {
                  "index": 6,
                  "Age Group Mid": 42.5,
                  "Avg Tweets per Week": 73.75471698113208
                },
                {
                  "index": 7,
                  "Age Group Mid": 47.5,
                  "Avg Tweets per Week": 0
                },
                {
                  "index": 8,
                  "Age Group Mid": 52.5,
                  "Avg Tweets per Week": 0
                },
                {
                  "index": 9,
                  "Age Group Mid": 57.5,
                  "Avg Tweets per Week": 0
                },
                {
                  "index": 10,
                  "Age Group Mid": 62.5,
                  "Avg Tweets per Week": 0
                },
                {
                  "index": 11,
                  "Age Group Mid": 67.5,
                  "Avg Tweets per Week": 0
                },
                {
                  "index": 12,
                  "Age Group Mid": 72.5,
                  "Avg Tweets per Week": 0
                },
                {
                  "index": 13,
                  "Age Group Mid": 77.5,
                  "Avg Tweets per Week": 0
                }
              ],
              "datalink": {
                "display_id": "4b13da4c-37b3-42f5-80d3-1b184e6d4a8f"
              }
            }
          },
          "metadata": {
            "application/vnd.dataresource+json": {
              "datalink": {
                "dataframe_info": {
                  "default_index_used": true,
                  "orig_size_bytes": 906,
                  "orig_num_rows": 14,
                  "orig_num_cols": 2,
                  "truncated_string_columns": [],
                  "truncated_size_bytes": 906,
                  "truncated_num_rows": 14,
                  "truncated_num_cols": 2
                },
                "dx_settings": {
                  "NUM_PAST_SAMPLES_TRACKED": 3,
                  "ENABLE_DATALINK": true,
                  "DISPLAY_MODE": "simple",
                  "GENERATE_DEX_METADATA": false,
                  "STRINGIFY_INDEX_VALUES": false,
                  "ALLOW_NOTEABLE_ATTRS": true,
                  "DISPLAY_MAX_COLUMNS": 100,
                  "HTML_TABLE_SCHEMA": false,
                  "SAMPLING_FACTOR": 0.1,
                  "LOG_LEVEL": 30,
                  "ENABLE_ASSIGNMENT": true,
                  "FLATTEN_INDEX_VALUES": false,
                  "DEV_MODE": false,
                  "COLUMN_SAMPLING_METHOD": "outer",
                  "FLATTEN_COLUMN_VALUES": true,
                  "DISPLAY_MAX_ROWS": 50000,
                  "ROW_SAMPLING_METHOD": "random",
                  "RANDOM_STATE": 12648430,
                  "DB_LOCATION": ":memory:",
                  "STRINGIFY_COLUMN_VALUES": true,
                  "SAMPLING_METHOD": "random",
                  "MAX_STRING_LENGTH": 250,
                  "MAX_RENDER_SIZE_BYTES": 104857600,
                  "RESET_INDEX_VALUES": false
                },
                "display_id": "4b13da4c-37b3-42f5-80d3-1b184e6d4a8f",
                "applied_filters": [],
                "sample_history": [],
                "sampling_time": "2023-07-24T08:43:46.380511",
                "variable_name": "df_grouped_no_outliers",
                "user_variable_name": "df_grouped_no_outliers"
              },
              "display_id": "4b13da4c-37b3-42f5-80d3-1b184e6d4a8f"
            }
          }
        }
      ],
      "execution_count": null,
      "metadata": {
        "noteable": {
          "cell_type": "code"
        },
        "ExecuteTime": {
          "end_time": "2023-07-24T08:43:46.537324+00:00",
          "start_time": "2023-07-24T08:43:44.741400+00:00"
        },
        "datalink": {
          "4b13da4c-37b3-42f5-80d3-1b184e6d4a8f": {
            "applied_filters": [],
            "dataframe_info": {
              "default_index_used": true,
              "orig_num_cols": 2,
              "orig_num_rows": 14,
              "orig_size_bytes": 906,
              "truncated_num_cols": 2,
              "truncated_num_rows": 14,
              "truncated_size_bytes": 906,
              "truncated_string_columns": []
            },
            "display_id": "4b13da4c-37b3-42f5-80d3-1b184e6d4a8f",
            "dx_settings": {
              "ALLOW_NOTEABLE_ATTRS": true,
              "COLUMN_SAMPLING_METHOD": "outer",
              "DB_LOCATION": ":memory:",
              "DEV_MODE": false,
              "DISPLAY_MAX_COLUMNS": 100,
              "DISPLAY_MAX_ROWS": 50000,
              "DISPLAY_MODE": "simple",
              "ENABLE_ASSIGNMENT": true,
              "ENABLE_DATALINK": true,
              "FLATTEN_COLUMN_VALUES": true,
              "FLATTEN_INDEX_VALUES": false,
              "GENERATE_DEX_METADATA": false,
              "HTML_TABLE_SCHEMA": false,
              "LOG_LEVEL": 30,
              "MAX_RENDER_SIZE_BYTES": 104857600,
              "MAX_STRING_LENGTH": 250,
              "NUM_PAST_SAMPLES_TRACKED": 3,
              "RANDOM_STATE": 12648430,
              "RESET_INDEX_VALUES": false,
              "ROW_SAMPLING_METHOD": "random",
              "SAMPLING_FACTOR": 0.1,
              "SAMPLING_METHOD": "random",
              "STRINGIFY_COLUMN_VALUES": true,
              "STRINGIFY_INDEX_VALUES": false
            },
            "sample_history": [],
            "sampling_time": "2023-07-24T08:43:46.380511",
            "user_variable_name": "df_grouped_no_outliers",
            "variable_name": "df_grouped_no_outliers"
          }
        }
      },
      "id": "7cca3723-71c2-42c5-af27-bc2500089a60"
    },
    {
      "cell_type": "code",
      "source": [
        "# Recreate the DataFrame\n",
        "data = genTweetsAll(100)\n",
        "flat_data = [item for sublist in data for item in sublist]\n",
        "df = pd.DataFrame(flat_data, columns=['Age', 'Date', 'Tweet Content'])\n",
        "\n",
        "# Group the records according to age ranges (separated by 5 years)\n",
        "df['Age Group'] = pd.cut(df['Age'], bins=np.arange(10, 85, 5), right=False)\n",
        "\n",
        "# For each group, calculate the average number of tweets per week\n",
        "df['Week'] = df['Date'].dt.isocalendar().week\n",
        "df_grouped = df.groupby(['Age Group', 'Week']).size().reset_index(name='Tweets')\n",
        "df_grouped['Age Group Mid'] = df_grouped['Age Group'].apply(lambda x: x.mid)\n",
        "df_grouped = df_grouped.groupby('Age Group Mid').agg({'Tweets': 'mean'}).reset_index().rename(columns={'Tweets': 'Avg Tweets per Week'})\n",
        "\n",
        "# Calculate the z-scores of the 'Avg Tweets per Week' column\n",
        "df_grouped['Z-Score'] = zscore(df_grouped['Avg Tweets per Week'])\n",
        "\n",
        "# Remove records with a z-score greater than 3 or less than -3\n",
        "df_grouped_no_outliers = df_grouped[(df_grouped['Z-Score'] > -3) & (df_grouped['Z-Score'] < 3)]\n",
        "\n",
        "# Drop the 'Z-Score' column as it's no longer needed\n",
        "df_grouped_no_outliers = df_grouped_no_outliers.drop(columns='Z-Score')\n",
        "\n",
        "# Display the DataFrame\n",
        "df_grouped_no_outliers"
      ],
      "outputs": [
        {
          "output_type": "display_data",
          "data": {
            "application/vnd.dataresource+json": {
              "schema": {
                "fields": [
                  {
                    "name": "index",
                    "type": "integer"
                  },
                  {
                    "name": "Age Group Mid",
                    "type": "any",
                    "constraints": {
                      "enum": [
                        12.5,
                        17.5,
                        22.5,
                        27.5,
                        32.5,
                        37.5,
                        42.5,
                        47.5,
                        52.5,
                        57.5,
                        62.5,
                        67.5,
                        72.5,
                        77.5
                      ]
                    },
                    "ordered": true
                  },
                  {
                    "name": "Avg Tweets per Week",
                    "type": "number"
                  }
                ],
                "primaryKey": [
                  "index"
                ],
                "pandas_version": "1.4.0"
              },
              "data": [
                {
                  "index": 0,
                  "Age Group Mid": 12.5,
                  "Avg Tweets per Week": 0
                },
                {
                  "index": 1,
                  "Age Group Mid": 17.5,
                  "Avg Tweets per Week": 70.49056603773585
                },
                {
                  "index": 2,
                  "Age Group Mid": 22.5,
                  "Avg Tweets per Week": 257.50943396226415
                },
                {
                  "index": 3,
                  "Age Group Mid": 27.5,
                  "Avg Tweets per Week": 299.77358490566036
                },
                {
                  "index": 4,
                  "Age Group Mid": 32.5,
                  "Avg Tweets per Week": 500.3018867924528
                },
                {
                  "index": 5,
                  "Age Group Mid": 37.5,
                  "Avg Tweets per Week": 237.47169811320754
                },
                {
                  "index": 6,
                  "Age Group Mid": 42.5,
                  "Avg Tweets per Week": 71.67924528301887
                },
                {
                  "index": 7,
                  "Age Group Mid": 47.5,
                  "Avg Tweets per Week": 0
                },
                {
                  "index": 8,
                  "Age Group Mid": 52.5,
                  "Avg Tweets per Week": 0
                },
                {
                  "index": 9,
                  "Age Group Mid": 57.5,
                  "Avg Tweets per Week": 0
                },
                {
                  "index": 10,
                  "Age Group Mid": 62.5,
                  "Avg Tweets per Week": 0
                },
                {
                  "index": 11,
                  "Age Group Mid": 67.5,
                  "Avg Tweets per Week": 0
                },
                {
                  "index": 12,
                  "Age Group Mid": 72.5,
                  "Avg Tweets per Week": 0
                },
                {
                  "index": 13,
                  "Age Group Mid": 77.5,
                  "Avg Tweets per Week": 0
                }
              ],
              "datalink": {
                "display_id": "e78814b7-8d87-4163-b573-0627eeb5a6f2"
              }
            }
          },
          "metadata": {
            "application/vnd.dataresource+json": {
              "datalink": {
                "dataframe_info": {
                  "default_index_used": true,
                  "orig_size_bytes": 906,
                  "orig_num_rows": 14,
                  "orig_num_cols": 2,
                  "truncated_string_columns": [],
                  "truncated_size_bytes": 906,
                  "truncated_num_rows": 14,
                  "truncated_num_cols": 2
                },
                "dx_settings": {
                  "NUM_PAST_SAMPLES_TRACKED": 3,
                  "ENABLE_DATALINK": true,
                  "DISPLAY_MODE": "simple",
                  "GENERATE_DEX_METADATA": false,
                  "STRINGIFY_INDEX_VALUES": false,
                  "ALLOW_NOTEABLE_ATTRS": true,
                  "DISPLAY_MAX_COLUMNS": 100,
                  "HTML_TABLE_SCHEMA": false,
                  "SAMPLING_FACTOR": 0.1,
                  "LOG_LEVEL": 30,
                  "ENABLE_ASSIGNMENT": true,
                  "FLATTEN_INDEX_VALUES": false,
                  "DEV_MODE": false,
                  "COLUMN_SAMPLING_METHOD": "outer",
                  "FLATTEN_COLUMN_VALUES": true,
                  "DISPLAY_MAX_ROWS": 50000,
                  "ROW_SAMPLING_METHOD": "random",
                  "RANDOM_STATE": 12648430,
                  "DB_LOCATION": ":memory:",
                  "STRINGIFY_COLUMN_VALUES": true,
                  "SAMPLING_METHOD": "random",
                  "MAX_STRING_LENGTH": 250,
                  "MAX_RENDER_SIZE_BYTES": 104857600,
                  "RESET_INDEX_VALUES": false
                },
                "display_id": "e78814b7-8d87-4163-b573-0627eeb5a6f2",
                "applied_filters": [],
                "sample_history": [],
                "sampling_time": "2023-07-24T08:44:37.533800",
                "variable_name": "df_grouped_no_outliers",
                "user_variable_name": "df_grouped_no_outliers"
              },
              "display_id": "e78814b7-8d87-4163-b573-0627eeb5a6f2"
            }
          }
        }
      ],
      "execution_count": null,
      "metadata": {
        "noteable": {
          "cell_type": "code"
        },
        "ExecuteTime": {
          "end_time": "2023-07-24T08:44:37.692526+00:00",
          "start_time": "2023-07-24T08:44:35.958299+00:00"
        },
        "datalink": {
          "e78814b7-8d87-4163-b573-0627eeb5a6f2": {
            "applied_filters": [],
            "dataframe_info": {
              "default_index_used": true,
              "orig_num_cols": 2,
              "orig_num_rows": 14,
              "orig_size_bytes": 906,
              "truncated_num_cols": 2,
              "truncated_num_rows": 14,
              "truncated_size_bytes": 906,
              "truncated_string_columns": []
            },
            "display_id": "e78814b7-8d87-4163-b573-0627eeb5a6f2",
            "dx_settings": {
              "ALLOW_NOTEABLE_ATTRS": true,
              "COLUMN_SAMPLING_METHOD": "outer",
              "DB_LOCATION": ":memory:",
              "DEV_MODE": false,
              "DISPLAY_MAX_COLUMNS": 100,
              "DISPLAY_MAX_ROWS": 50000,
              "DISPLAY_MODE": "simple",
              "ENABLE_ASSIGNMENT": true,
              "ENABLE_DATALINK": true,
              "FLATTEN_COLUMN_VALUES": true,
              "FLATTEN_INDEX_VALUES": false,
              "GENERATE_DEX_METADATA": false,
              "HTML_TABLE_SCHEMA": false,
              "LOG_LEVEL": 30,
              "MAX_RENDER_SIZE_BYTES": 104857600,
              "MAX_STRING_LENGTH": 250,
              "NUM_PAST_SAMPLES_TRACKED": 3,
              "RANDOM_STATE": 12648430,
              "RESET_INDEX_VALUES": false,
              "ROW_SAMPLING_METHOD": "random",
              "SAMPLING_FACTOR": 0.1,
              "SAMPLING_METHOD": "random",
              "STRINGIFY_COLUMN_VALUES": true,
              "STRINGIFY_INDEX_VALUES": false
            },
            "sample_history": [],
            "sampling_time": "2023-07-24T08:44:37.533800",
            "user_variable_name": "df_grouped_no_outliers",
            "variable_name": "df_grouped_no_outliers"
          }
        }
      },
      "id": "a7a51972-eb44-446b-a49b-df51115f32ae"
    },
    {
      "cell_type": "code",
      "source": [
        "# Import the necessary libraries\n",
        "import seaborn as sns\n",
        "import matplotlib.pyplot as plt\n",
        "from sklearn.linear_model import LinearRegression\n",
        "from sklearn.model_selection import train_test_split\n",
        "from sklearn.metrics import mean_squared_error, r2_score\n",
        "\n",
        "# Create a scatter plot\n",
        "plt.figure(figsize=(10, 6))\n",
        "sns.scatterplot(x='Age Group Mid', y='Avg Tweets per Week', data=df_grouped_no_outliers)\n",
        "plt.title('Average Number of Tweets per Week by Age Group')\n",
        "plt.show()\n",
        "\n",
        "# Prepare the data for training\n",
        "X = df_grouped_no_outliers[['Age Group Mid']]\n",
        "y = df_grouped_no_outliers['Avg Tweets per Week']\n",
        "X_train, X_test, y_train, y_test = train_test_split(X, y, test_size=0.2, random_state=42)\n",
        "\n",
        "# Train a linear regression model\n",
        "model = LinearRegression()\n",
        "model.fit(X_train, y_train)\n",
        "\n",
        "# Make predictions using the testing set\n",
        "y_pred = model.predict(X_test)\n",
        "\n",
        "# The coefficients\n",
        "print('Coefficients: \\n', model.coef_)\n",
        "# The mean squared error\n",
        "print('Mean squared error: %.2f' % mean_squared_error(y_test, y_pred))\n",
        "# The coefficient of determination: 1 is perfect prediction\n",
        "print('Coefficient of determination: %.2f' % r2_score(y_test, y_pred))\n",
        "\n",
        "# Plot outputs\n",
        "plt.scatter(X_test, y_test,  color='black')\n",
        "plt.plot(X_test, y_pred, color='blue', linewidth=3)\n",
        "plt.title('Linear Regression Model')\n",
        "plt.xlabel('Age Group Mid')\n",
        "plt.ylabel('Avg Tweets per Week')\n",
        "plt.show()"
      ],
      "outputs": [
        {
          "output_type": "display_data",
          "data": {
            "image/png": "[encoded data removed]"
          },
          "metadata": {}
        },
        {
          "output_type": "stream",
          "name": "stdout",
          "text": [
            "Coefficients: \n",
            " [-5.25829173]\n",
            "Mean squared error: 31466.73\n",
            "Coefficient of determination: 0.00\n"
          ]
        },
        {
          "output_type": "display_data",
          "data": {
            "image/png": "[encoded data removed]"
          },
          "metadata": {}
        }
      ],
      "execution_count": null,
      "metadata": {
        "noteable": {
          "cell_type": "code"
        },
        "ExecuteTime": {
          "start_time": "2023-07-24T08:46:32.643690+00:00",
          "end_time": "2023-07-24T08:46:34.271491+00:00"
        }
      },
      "id": "057c9d42-6b20-4928-8ed6-c896298e2ada"
    },
    {
      "cell_type": "code",
      "source": [
        "# Import the necessary library\n",
        "from sklearn.preprocessing import PolynomialFeatures\n",
        "\n",
        "# Create a PolynomialFeatures object with degree 2\n",
        "poly_features = PolynomialFeatures(degree=2)\n",
        "\n",
        "# Transform the features to higher degree features.\n",
        "X_train_poly = poly_features.fit_transform(X_train)\n",
        "X_test_poly = poly_features.fit_transform(X_test)\n",
        "\n",
        "# Fit the transformed features to Linear Regression\n",
        "poly_model = LinearRegression()\n",
        "poly_model.fit(X_train_poly, y_train)\n",
        "\n",
        "# Predicting on training data-set\n",
        "y_train_predicted = poly_model.predict(X_train_poly)\n",
        "\n",
        "# Predicting on test data-set\n",
        "y_test_predict = poly_model.predict(X_test_poly)\n",
        "\n",
        "# Evaluating the model on training dataset\n",
        "rmse_train = np.sqrt(mean_squared_error(y_train, y_train_predicted))\n",
        "r2_train = r2_score(y_train, y_train_predicted)\n",
        "\n",
        "# Evaluating the model on test dataset\n",
        "rmse_test = np.sqrt(mean_squared_error(y_test, y_test_predict))\n",
        "r2_test = r2_score(y_test, y_test_predict)\n",
        "\n",
        "print('The model performance for the training set')\n",
        "print('-------------------------------------------')\n",
        "print('RMSE of training set is {}'.format(rmse_train))\n",
        "print('R2 score of training set is {}'.format(r2_train))\n",
        "\n",
        "print('\\n')\n",
        "\n",
        "print('The model performance for the test set')\n",
        "print('-------------------------------------------')\n",
        "print('RMSE of test set is {}'.format(rmse_test))\n",
        "print('R2 score of test set is {}'.format(r2_test))\n",
        "\n",
        "# Visualising the Polynomial Regression results\n",
        "plt.scatter(X_test, y_test, color = 'red')\n",
        "plt.plot(X_test, y_test_predict, color = 'blue')\n",
        "plt.title('Predictions with Polynomial Regression')\n",
        "plt.xlabel('Age Group Mid')\n",
        "plt.ylabel('Avg Tweets per Week')\n",
        "plt.show()"
      ],
      "outputs": [
        {
          "output_type": "stream",
          "name": "stdout",
          "text": [
            "The model performance for the training set\n",
            "-------------------------------------------\n",
            "RMSE of training set is 125.90670134331238\n",
            "R2 score of training set is 0.3885639573356343\n",
            "\n",
            "\n",
            "The model performance for the test set\n",
            "-------------------------------------------\n",
            "RMSE of test set is 163.54853457893554\n",
            "R2 score of test set is 0.0\n"
          ]
        },
        {
          "output_type": "display_data",
          "data": {
            "image/png": "[encoded data removed]"
          },
          "metadata": {}
        }
      ],
      "execution_count": null,
      "metadata": {
        "noteable": {
          "cell_type": "code"
        },
        "ExecuteTime": {
          "start_time": "2023-07-24T08:49:25.346249+00:00",
          "end_time": "2023-07-24T08:49:25.810261+00:00"
        }
      },
      "id": "946115a7-e044-4276-a81e-9a5c18f52938"
    }
  ],
  "metadata": {
    "noteable-chatgpt": {
      "create_notebook": {
        "openai_conversation_id": "82698317-3c29-597f-a562-458c097bb0e9",
        "openai_ephemeral_user_id": "dcc017d9-8453-54e8-bf67-865ed5a69d0a",
        "openai_subdivision1_iso_code": "US-CA"
      }
    },
    "kernel_info": {
      "name": "python3"
    },
    "noteable": {
      "last_transaction_id": "10c6b10a-6748-4106-9adf-db13181ca906",
      "last_delta_id": "5ae80e88-43e8-4e3c-9040-4389f3798f8a"
    },
    "kernelspec": {
      "display_name": "Python 3.9",
      "language": "python",
      "name": "python3"
    },
    "selected_hardware_size": "small",
    "nteract": {
      "version": "noteable@2.9.0"
    }
  },
  "nbformat": 4,
  "nbformat_minor": 5
}